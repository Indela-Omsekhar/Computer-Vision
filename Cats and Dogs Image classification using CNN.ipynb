{
 "cells": [
  {
   "cell_type": "code",
   "execution_count": 1,
   "id": "dafe40cb",
   "metadata": {},
   "outputs": [],
   "source": [
    "# imorting necessary libraries\n",
    "import os, shutil\n",
    "import matplotlib.pyplot as plt\n",
    "from keras import models\n",
    "from keras import layers\n",
    "from keras import optimizers\n",
    "from keras.preprocessing.image import ImageDataGenerator"
   ]
  },
  {
   "cell_type": "code",
   "execution_count": 2,
   "id": "df00f85e",
   "metadata": {},
   "outputs": [],
   "source": [
    "# Creating folder structure\n",
    "base_dir = r'C:\\Users\\Honey\\Desktop\\Keras\\CNN_Applications\\Cats and Dogs\\cats_and_dogs_small'\n",
    "os.mkdir(base_dir)\n",
    "\n",
    "train_dir = os.path.join(base_dir,'train')\n",
    "os.mkdir(train_dir)\n",
    "validation_dir = os.path.join(base_dir,'validation')\n",
    "os.mkdir(validation_dir)\n",
    "test_dir = os.path.join(base_dir,'test')\n",
    "os.mkdir(test_dir)\n",
    "\n",
    "train_cats_dir = os.path.join(train_dir,'cats')\n",
    "os.mkdir(train_cats_dir)\n",
    "train_dogs_dir = os.path.join(train_dir,'dogs')\n",
    "os.mkdir(train_dogs_dir)\n",
    "validation_cats_dir = os.path.join(validation_dir,'cats')\n",
    "os.mkdir(validation_cats_dir)\n",
    "validation_dogs_dir = os.path.join(validation_dir,'dogs')\n",
    "os.mkdir(validation_dogs_dir)\n",
    "test_cats_dir = os.path.join(test_dir,'cats')\n",
    "os.mkdir(test_cats_dir)\n",
    "test_dogs_dir = os.path.join(test_dir,'dogs')\n",
    "os.mkdir(test_dogs_dir)"
   ]
  },
  {
   "cell_type": "code",
   "execution_count": 3,
   "id": "bd1aff79",
   "metadata": {},
   "outputs": [],
   "source": [
    "# copying files from original dataset to respective folders\n",
    "original_dataset_dir = r'C:\\Users\\Honey\\Desktop\\Keras\\CNN_Applications\\Cats and Dogs\\dogs-vs-cats\\train\\train'\n",
    "files = ['cat.{}.jpg'.format(i) for i in range(1000)]\n",
    "for file in files:\n",
    "    source = os.path.join(original_dataset_dir,file)\n",
    "    destination = os.path.join(train_cats_dir,file)\n",
    "    shutil.copyfile(source,destination)\n",
    "    \n",
    "files = ['cat.{}.jpg'.format(i) for i in range(1000,1500)]\n",
    "for file in files:\n",
    "    source = os.path.join(original_dataset_dir,file)\n",
    "    destination = os.path.join(validation_cats_dir,file)\n",
    "    shutil.copyfile(source,destination)\n",
    "    \n",
    "files = ['cat.{}.jpg'.format(i) for i in range(1500,2000)]\n",
    "for file in files:\n",
    "    source = os.path.join(original_dataset_dir,file)\n",
    "    destination = os.path.join(test_cats_dir,file)\n",
    "    shutil.copyfile(source,destination)\n",
    "    \n",
    "files = ['dog.{}.jpg'.format(i) for i in range(1000)]\n",
    "for file in files:\n",
    "    source = os.path.join(original_dataset_dir,file)\n",
    "    destination = os.path.join(train_dogs_dir,file)\n",
    "    shutil.copyfile(source,destination)\n",
    "    \n",
    "files = ['dog.{}.jpg'.format(i) for i in range(1000,1500)]\n",
    "for file in files:\n",
    "    source = os.path.join(original_dataset_dir,file)\n",
    "    destination = os.path.join(validation_dogs_dir,file)\n",
    "    shutil.copyfile(source,destination)\n",
    "    \n",
    "files = ['dog.{}.jpg'.format(i) for i in range(1500,2000)]\n",
    "for file in files:\n",
    "    source = os.path.join(original_dataset_dir,file)\n",
    "    destination = os.path.join(test_dogs_dir,file)\n",
    "    shutil.copyfile(source,destination)"
   ]
  },
  {
   "cell_type": "code",
   "execution_count": 4,
   "id": "43422893",
   "metadata": {},
   "outputs": [
    {
     "name": "stdout",
     "output_type": "stream",
     "text": [
      "total training cat images: 1000\n",
      "total training dog images: 1000\n",
      "total validation cat images: 500\n",
      "total validation dog images: 500\n",
      "total testing cat images: 500\n",
      "total testing dog images: 500\n"
     ]
    }
   ],
   "source": [
    "print(\"total training cat images:\",len(os.listdir(train_cats_dir)))\n",
    "print(\"total training dog images:\",len(os.listdir(train_dogs_dir)))\n",
    "print(\"total validation cat images:\",len(os.listdir(validation_cats_dir)))\n",
    "print(\"total validation dog images:\",len(os.listdir(validation_dogs_dir)))\n",
    "print(\"total testing cat images:\",len(os.listdir(test_cats_dir)))\n",
    "print(\"total testing dog images:\",len(os.listdir(test_dogs_dir)))"
   ]
  },
  {
   "cell_type": "code",
   "execution_count": 5,
   "id": "ab175158",
   "metadata": {},
   "outputs": [
    {
     "name": "stdout",
     "output_type": "stream",
     "text": [
      "Model: \"sequential\"\n",
      "_________________________________________________________________\n",
      " Layer (type)                Output Shape              Param #   \n",
      "=================================================================\n",
      " conv2d (Conv2D)             (None, 148, 148, 32)      896       \n",
      "                                                                 \n",
      " max_pooling2d (MaxPooling2D  (None, 74, 74, 32)       0         \n",
      " )                                                               \n",
      "                                                                 \n",
      " conv2d_1 (Conv2D)           (None, 72, 72, 64)        18496     \n",
      "                                                                 \n",
      " max_pooling2d_1 (MaxPooling  (None, 36, 36, 64)       0         \n",
      " 2D)                                                             \n",
      "                                                                 \n",
      " conv2d_2 (Conv2D)           (None, 34, 34, 128)       73856     \n",
      "                                                                 \n",
      " max_pooling2d_2 (MaxPooling  (None, 17, 17, 128)      0         \n",
      " 2D)                                                             \n",
      "                                                                 \n",
      " conv2d_3 (Conv2D)           (None, 15, 15, 128)       147584    \n",
      "                                                                 \n",
      " max_pooling2d_3 (MaxPooling  (None, 7, 7, 128)        0         \n",
      " 2D)                                                             \n",
      "                                                                 \n",
      " flatten (Flatten)           (None, 6272)              0         \n",
      "                                                                 \n",
      " dense (Dense)               (None, 512)               3211776   \n",
      "                                                                 \n",
      " dense_1 (Dense)             (None, 1)                 513       \n",
      "                                                                 \n",
      "=================================================================\n",
      "Total params: 3,453,121\n",
      "Trainable params: 3,453,121\n",
      "Non-trainable params: 0\n",
      "_________________________________________________________________\n"
     ]
    }
   ],
   "source": [
    "#  network architecture\n",
    "# Sequential class used only for linear stacks of layers\n",
    "# functional API used for directed acyclic graphs of layers\n",
    "model = models.Sequential()\n",
    "# Convolution layer with 32 filters and 3X3 kernel\n",
    "model.add(layers.Conv2D(32,(3,3),activation='relu',input_shape=(150,150,3)))\n",
    "# Maxpooling layer\n",
    "model.add(layers.MaxPooling2D((2,2)))\n",
    "# Convolution layer with 64 filters and 3X3 kernel\n",
    "model.add(layers.Conv2D(64,(3,3),activation='relu'))\n",
    "# Maxpooling layer\n",
    "model.add(layers.MaxPooling2D((2,2)))\n",
    "# Convolution layer with 128 filters and 3X3 kernel\n",
    "model.add(layers.Conv2D(128,(3,3),activation='relu'))\n",
    "# Maxpooling layer\n",
    "model.add(layers.MaxPooling2D((2,2)))\n",
    "# Convolution layer with 128 filters and 3X3 kernel\n",
    "model.add(layers.Conv2D(128,(3,3),activation='relu'))\n",
    "# Maxpooling layer\n",
    "model.add(layers.MaxPooling2D((2,2)))\n",
    "# Flattening layer\n",
    "model.add(layers.Flatten())\n",
    "# Fully connected layer with 512 filters\n",
    "model.add(layers.Dense(512,activation='relu'))\n",
    "# Output layer layer with 1 class\n",
    "model.add(layers.Dense(1,activation='sigmoid'))\n",
    "model.summary()"
   ]
  },
  {
   "cell_type": "code",
   "execution_count": 6,
   "id": "de7482be",
   "metadata": {},
   "outputs": [],
   "source": [
    "# compilation step\n",
    "# binary crossentropy for a two-class classification problem\n",
    "# categorical crossentropy for a many-class classification problem\n",
    "# meansquared error for a regression problem\n",
    "# connectionist temporal classification for a sequence-learning problem\n",
    "model.compile(loss='binary_crossentropy',optimizer=optimizers.RMSprop(learning_rate=1e-4),metrics=['acc'])"
   ]
  },
  {
   "cell_type": "code",
   "execution_count": 7,
   "id": "892f2061",
   "metadata": {},
   "outputs": [
    {
     "name": "stdout",
     "output_type": "stream",
     "text": [
      "Found 2000 images belonging to 2 classes.\n",
      "Found 1000 images belonging to 2 classes.\n"
     ]
    }
   ],
   "source": [
    "# Using ImageDataGenerator to read images from directories\n",
    "train_datagen = ImageDataGenerator(rescale=1./255)\n",
    "test_datagen = ImageDataGenerator(rescale=1./255)\n",
    "\n",
    "train_generator = train_datagen.flow_from_directory(train_dir,target_size=(150,150),batch_size=20,class_mode='binary')\n",
    "validation_generator = test_datagen.flow_from_directory(validation_dir,target_size=(150,150),batch_size=20,class_mode='binary')"
   ]
  },
  {
   "cell_type": "code",
   "execution_count": 8,
   "id": "8253a212",
   "metadata": {},
   "outputs": [
    {
     "name": "stdout",
     "output_type": "stream",
     "text": [
      "data batch shape:  (20, 150, 150, 3)\n",
      "labels batch shape:  (20,)\n"
     ]
    }
   ],
   "source": [
    "for data_batch, label_batch in train_generator:\n",
    "    print('data batch shape: ',data_batch.shape)\n",
    "    print('labels batch shape: ', label_batch.shape)\n",
    "    break"
   ]
  },
  {
   "cell_type": "code",
   "execution_count": 9,
   "id": "9e18750a",
   "metadata": {},
   "outputs": [
    {
     "name": "stderr",
     "output_type": "stream",
     "text": [
      "C:\\Users\\Honey\\AppData\\Local\\Temp\\ipykernel_7732\\3959621088.py:2: UserWarning: `Model.fit_generator` is deprecated and will be removed in a future version. Please use `Model.fit`, which supports generators.\n",
      "  history = model.fit_generator(train_generator, steps_per_epoch=100, epochs=30,\n"
     ]
    },
    {
     "name": "stdout",
     "output_type": "stream",
     "text": [
      "Epoch 1/30\n",
      "100/100 [==============================] - 33s 311ms/step - loss: 0.6885 - acc: 0.5240 - val_loss: 0.6707 - val_acc: 0.5760\n",
      "Epoch 2/30\n",
      "100/100 [==============================] - 31s 311ms/step - loss: 0.6597 - acc: 0.6120 - val_loss: 0.6385 - val_acc: 0.6540\n",
      "Epoch 3/30\n",
      "100/100 [==============================] - 31s 313ms/step - loss: 0.6052 - acc: 0.6775 - val_loss: 0.6226 - val_acc: 0.6530\n",
      "Epoch 4/30\n",
      "100/100 [==============================] - 32s 317ms/step - loss: 0.5690 - acc: 0.7055 - val_loss: 0.6388 - val_acc: 0.6200\n",
      "Epoch 5/30\n",
      "100/100 [==============================] - 32s 318ms/step - loss: 0.5391 - acc: 0.7170 - val_loss: 0.5814 - val_acc: 0.6820\n",
      "Epoch 6/30\n",
      "100/100 [==============================] - 31s 314ms/step - loss: 0.5117 - acc: 0.7445 - val_loss: 0.5694 - val_acc: 0.6910\n",
      "Epoch 7/30\n",
      "100/100 [==============================] - 32s 317ms/step - loss: 0.4886 - acc: 0.7705 - val_loss: 0.5934 - val_acc: 0.6820\n",
      "Epoch 8/30\n",
      "100/100 [==============================] - 32s 315ms/step - loss: 0.4546 - acc: 0.7805 - val_loss: 0.5499 - val_acc: 0.7180\n",
      "Epoch 9/30\n",
      "100/100 [==============================] - 31s 312ms/step - loss: 0.4367 - acc: 0.7945 - val_loss: 0.5732 - val_acc: 0.6980\n",
      "Epoch 10/30\n",
      "100/100 [==============================] - 31s 310ms/step - loss: 0.4179 - acc: 0.8080 - val_loss: 0.5554 - val_acc: 0.7130\n",
      "Epoch 11/30\n",
      "100/100 [==============================] - 32s 315ms/step - loss: 0.3942 - acc: 0.8220 - val_loss: 0.5604 - val_acc: 0.7210\n",
      "Epoch 12/30\n",
      "100/100 [==============================] - 31s 310ms/step - loss: 0.3692 - acc: 0.8415 - val_loss: 0.5754 - val_acc: 0.7300\n",
      "Epoch 13/30\n",
      "100/100 [==============================] - 31s 311ms/step - loss: 0.3474 - acc: 0.8535 - val_loss: 0.5414 - val_acc: 0.7360\n",
      "Epoch 14/30\n",
      "100/100 [==============================] - 33s 326ms/step - loss: 0.3295 - acc: 0.8575 - val_loss: 0.5697 - val_acc: 0.7290\n",
      "Epoch 15/30\n",
      "100/100 [==============================] - 33s 325ms/step - loss: 0.3123 - acc: 0.8640 - val_loss: 0.5744 - val_acc: 0.7290\n",
      "Epoch 16/30\n",
      "100/100 [==============================] - 32s 320ms/step - loss: 0.2888 - acc: 0.8825 - val_loss: 0.6136 - val_acc: 0.7330\n",
      "Epoch 17/30\n",
      "100/100 [==============================] - 32s 315ms/step - loss: 0.2690 - acc: 0.8830 - val_loss: 0.5820 - val_acc: 0.7470\n",
      "Epoch 18/30\n",
      "100/100 [==============================] - 32s 319ms/step - loss: 0.2459 - acc: 0.9005 - val_loss: 0.5746 - val_acc: 0.7380\n",
      "Epoch 19/30\n",
      "100/100 [==============================] - 31s 311ms/step - loss: 0.2258 - acc: 0.9135 - val_loss: 0.6811 - val_acc: 0.7210\n",
      "Epoch 20/30\n",
      "100/100 [==============================] - 32s 316ms/step - loss: 0.2083 - acc: 0.9195 - val_loss: 0.6706 - val_acc: 0.7270\n",
      "Epoch 21/30\n",
      "100/100 [==============================] - 31s 312ms/step - loss: 0.1936 - acc: 0.9290 - val_loss: 0.7001 - val_acc: 0.7330\n",
      "Epoch 22/30\n",
      "100/100 [==============================] - 31s 311ms/step - loss: 0.1771 - acc: 0.9355 - val_loss: 0.6348 - val_acc: 0.7420\n",
      "Epoch 23/30\n",
      "100/100 [==============================] - 32s 317ms/step - loss: 0.1571 - acc: 0.9435 - val_loss: 0.6898 - val_acc: 0.7370\n",
      "Epoch 24/30\n",
      "100/100 [==============================] - 32s 318ms/step - loss: 0.1387 - acc: 0.9545 - val_loss: 0.6961 - val_acc: 0.7370\n",
      "Epoch 25/30\n",
      "100/100 [==============================] - 32s 316ms/step - loss: 0.1204 - acc: 0.9660 - val_loss: 0.7114 - val_acc: 0.7530\n",
      "Epoch 26/30\n",
      "100/100 [==============================] - 32s 316ms/step - loss: 0.1102 - acc: 0.9645 - val_loss: 0.8124 - val_acc: 0.7210\n",
      "Epoch 27/30\n",
      "100/100 [==============================] - 31s 314ms/step - loss: 0.0950 - acc: 0.9695 - val_loss: 0.7803 - val_acc: 0.7540\n",
      "Epoch 28/30\n",
      "100/100 [==============================] - 32s 318ms/step - loss: 0.0806 - acc: 0.9765 - val_loss: 0.8202 - val_acc: 0.7360\n",
      "Epoch 29/30\n",
      "100/100 [==============================] - 32s 315ms/step - loss: 0.0743 - acc: 0.9790 - val_loss: 0.8608 - val_acc: 0.7380\n",
      "Epoch 30/30\n",
      "100/100 [==============================] - 32s 315ms/step - loss: 0.0603 - acc: 0.9830 - val_loss: 0.9557 - val_acc: 0.7440\n"
     ]
    }
   ],
   "source": [
    "# Fitting the model using a batch generator\n",
    "history = model.fit_generator(train_generator, steps_per_epoch=100, epochs=30, \n",
    "                              validation_data=validation_generator, validation_steps=50)\n"
   ]
  },
  {
   "cell_type": "code",
   "execution_count": 10,
   "id": "8a7c934f",
   "metadata": {},
   "outputs": [],
   "source": [
    "# Saving the model\n",
    "model.save('cats_and_dogs_small_1.h5')"
   ]
  },
  {
   "cell_type": "code",
   "execution_count": 11,
   "id": "fec43396",
   "metadata": {},
   "outputs": [
    {
     "data": {
      "image/png": "[encoded data removed]",
      "text/plain": [
       "<Figure size 432x288 with 1 Axes>"
      ]
     },
     "metadata": {
      "needs_background": "light"
     },
     "output_type": "display_data"
    },
    {
     "data": {
      "image/png": "[encoded data removed]",
      "text/plain": [
       "<Figure size 432x288 with 1 Axes>"
      ]
     },
     "metadata": {
      "needs_background": "light"
     },
     "output_type": "display_data"
    }
   ],
   "source": [
    "# Displaying curves of loss and accuracy during training\n",
    "acc = history.history['acc']\n",
    "val_acc = history.history['val_acc']\n",
    "loss = history.history['loss']\n",
    "val_loss = history.history['val_loss']\n",
    "\n",
    "epochs = range(1,len(acc)+1)\n",
    "plt.plot(epochs,acc,'bo',label='Training acc')\n",
    "plt.plot(epochs,val_acc,'b',label='Valiation acc')\n",
    "plt.title(\"Training and validation accuracy\")\n",
    "plt.legend()\n",
    "\n",
    "plt.figure()\n",
    "\n",
    "plt.plot(epochs,loss,'bo',label='Training loss')\n",
    "plt.plot(epochs,val_loss,'b',label='Valiation acc')\n",
    "plt.title(\"Training and validation accuracy\")\n",
    "plt.legend()\n",
    "\n",
    "plt.show()"
   ]
  },
  {
   "cell_type": "code",
   "execution_count": null,
   "id": "18f5e4eb",
   "metadata": {},
   "outputs": [],
   "source": []
  }
 ],
 "metadata": {
  "kernelspec": {
   "display_name": "Python 3 (ipykernel)",
   "language": "python",
   "name": "python3"
  },
  "language_info": {
   "codemirror_mode": {
    "name": "ipython",
    "version": 3
   },
   "file_extension": ".py",
   "mimetype": "text/x-python",
   "name": "python",
   "nbconvert_exporter": "python",
   "pygments_lexer": "ipython3",
   "version": "3.9.12"
  }
 },
 "nbformat": 4,
 "nbformat_minor": 5
}
