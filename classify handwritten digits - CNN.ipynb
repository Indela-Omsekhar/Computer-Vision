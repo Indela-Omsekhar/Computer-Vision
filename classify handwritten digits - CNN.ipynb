{
 "cells": [
  {
   "cell_type": "markdown",
   "id": "da683f01",
   "metadata": {},
   "source": [
    "### classify handwritten digits using CNN architecure\n",
    "1. Dense layers learn global patterns in their input feature space - For a MNIST digit, patterns involving all pixels\n",
    "2. Convolution layers learn local patterns - in the case of images, patterns found in small 2D windows of the inputs\n",
    "3. The patterns CNN learn are translation invariant - After learning a certain pattern in the lower-right corner of a picture, a convnet can recognize it anywhere: for example, in the upper-left corner. \n",
    "4. A densely connected network would have to learn the pattern a new if it appeared at a new location.\n",
    "5. CNN can learn spatial hierarchies of patterns - A first convolution layer will learn small local patterns such as edges, a second convolution layer will learn larger patterns made of the features of the first layers, and so on.\n",
    "6. padding = \"valid\" - no padding\n",
    "7. padding = \"same\" - padding will be applied\n",
    "8. distance between two successive windows is a parameter of the convolution - stride\n",
    "9. convolution is typically done with 3 × 3 windows and no stride\n",
    "10. max pooling is usually done with 2 × 2 windows and stride 2, in order to downsample the feature maps by a factor of 2"
   ]
  },
  {
   "cell_type": "code",
   "execution_count": 1,
   "id": "6625abbf",
   "metadata": {},
   "outputs": [],
   "source": [
    "# imorting necessary libraries\n",
    "from keras.datasets import mnist\n",
    "from keras.utils import to_categorical\n",
    "from keras import layers\n",
    "from keras import models"
   ]
  },
  {
   "cell_type": "code",
   "execution_count": 2,
   "id": "6e860ddc",
   "metadata": {},
   "outputs": [],
   "source": [
    "# Loading the MNIST dataset in Keras and split data into train and test\n",
    "(train_images, train_labels), (test_images, test_labels) = mnist.load_data()\n",
    "\n",
    "# Preparing the image data as per network requirement\n",
    "train_images = train_images.reshape((60000, 28, 28, 1))\n",
    "train_images = train_images.astype('float32') / 255\n",
    "test_images = test_images.reshape((10000, 28, 28, 1))\n",
    "test_images = test_images.astype('float32') / 255\n",
    "\n",
    "# Preparing the labels as per network requirement\n",
    "train_labels = to_categorical(train_labels)\n",
    "test_labels = to_categorical(test_labels)"
   ]
  },
  {
   "cell_type": "code",
   "execution_count": 3,
   "id": "778ee7cb",
   "metadata": {},
   "outputs": [
    {
     "name": "stdout",
     "output_type": "stream",
     "text": [
      "Model: \"sequential\"\n",
      "_________________________________________________________________\n",
      " Layer (type)                Output Shape              Param #   \n",
      "=================================================================\n",
      " conv2d (Conv2D)             (None, 26, 26, 32)        320       \n",
      "                                                                 \n",
      " max_pooling2d (MaxPooling2D  (None, 13, 13, 32)       0         \n",
      " )                                                               \n",
      "                                                                 \n",
      " conv2d_1 (Conv2D)           (None, 11, 11, 64)        18496     \n",
      "                                                                 \n",
      " max_pooling2d_1 (MaxPooling  (None, 5, 5, 64)         0         \n",
      " 2D)                                                             \n",
      "                                                                 \n",
      " conv2d_2 (Conv2D)           (None, 3, 3, 64)          36928     \n",
      "                                                                 \n",
      " flatten (Flatten)           (None, 576)               0         \n",
      "                                                                 \n",
      " dense (Dense)               (None, 64)                36928     \n",
      "                                                                 \n",
      " dense_1 (Dense)             (None, 10)                650       \n",
      "                                                                 \n",
      "=================================================================\n",
      "Total params: 93,322\n",
      "Trainable params: 93,322\n",
      "Non-trainable params: 0\n",
      "_________________________________________________________________\n"
     ]
    }
   ],
   "source": [
    "#  network architecture\n",
    "# Sequential class used only for linear stacks of layers\n",
    "# functional API used for directed acyclic graphs of layers\n",
    "model = models.Sequential()\n",
    "# Convolution layer with 32 filters and 3X3 kernel\n",
    "model.add(layers.Conv2D(32, (3, 3), activation='relu', input_shape=(28, 28, 1)))\n",
    "# Maxpooling layer \n",
    "model.add(layers.MaxPooling2D((2, 2)))\n",
    "# Convolution layer with 64 filters and 3X3 kernel\n",
    "model.add(layers.Conv2D(64, (3, 3), activation='relu'))\n",
    "# Maxpooling layer \n",
    "model.add(layers.MaxPooling2D((2, 2)))\n",
    "# Convolution layer with 32 filters and 3X3 kernel\n",
    "model.add(layers.Conv2D(64, (3, 3), activation='relu'))\n",
    "# Flattening layer\n",
    "model.add(layers.Flatten())\n",
    "# fully connected layer with 64 filters\n",
    "model.add(layers.Dense(64, activation='relu'))\n",
    "# fully connected layer with 10 filters\n",
    "model.add(layers.Dense(10, activation='softmax'))\n",
    "model.summary()"
   ]
  },
  {
   "cell_type": "code",
   "execution_count": 4,
   "id": "6ca6aa76",
   "metadata": {},
   "outputs": [
    {
     "name": "stdout",
     "output_type": "stream",
     "text": [
      "Epoch 1/5\n",
      "938/938 [==============================] - 20s 20ms/step - loss: 0.1857 - accuracy: 0.9415\n",
      "Epoch 2/5\n",
      "938/938 [==============================] - 18s 19ms/step - loss: 0.0479 - accuracy: 0.9853\n",
      "Epoch 3/5\n",
      "938/938 [==============================] - 18s 19ms/step - loss: 0.0326 - accuracy: 0.9898\n",
      "Epoch 4/5\n",
      "938/938 [==============================] - 18s 19ms/step - loss: 0.0259 - accuracy: 0.9919\n",
      "Epoch 5/5\n",
      "938/938 [==============================] - 18s 19ms/step - loss: 0.0201 - accuracy: 0.9936\n",
      "313/313 [==============================] - 2s 4ms/step - loss: 0.0273 - accuracy: 0.9920\n"
     ]
    },
    {
     "data": {
      "text/plain": [
       "0.9919999837875366"
      ]
     },
     "execution_count": 4,
     "metadata": {},
     "output_type": "execute_result"
    }
   ],
   "source": [
    "# compilation step\n",
    "# binary crossentropy for a two-class classification problem\n",
    "# categorical crossentropy for a many-class classification problem\n",
    "# meansquared error for a regression problem\n",
    "# connectionist temporal classification for a sequence-learning problem\n",
    "model.compile(optimizer='rmsprop',loss='categorical_crossentropy',metrics=['accuracy'])\n",
    "\n",
    "# training step\n",
    "model.fit(train_images, train_labels, epochs=5, batch_size=64)\n",
    "\n",
    "# evaluation step\n",
    "test_loss, test_acc = model.evaluate(test_images, test_labels)\n",
    "test_acc"
   ]
  },
  {
   "cell_type": "code",
   "execution_count": null,
   "id": "7743f632",
   "metadata": {},
   "outputs": [],
   "source": []
  },
  {
   "cell_type": "code",
   "execution_count": null,
   "id": "422568c6",
   "metadata": {},
   "outputs": [],
   "source": []
  }
 ],
 "metadata": {
  "kernelspec": {
   "display_name": "Python 3 (ipykernel)",
   "language": "python",
   "name": "python3"
  },
  "language_info": {
   "codemirror_mode": {
    "name": "ipython",
    "version": 3
   },
   "file_extension": ".py",
   "mimetype": "text/x-python",
   "name": "python",
   "nbconvert_exporter": "python",
   "pygments_lexer": "ipython3",
   "version": "3.9.12"
  }
 },
 "nbformat": 4,
 "nbformat_minor": 5
}
